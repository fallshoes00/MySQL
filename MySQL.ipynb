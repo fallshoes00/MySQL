{
 "cells": [
  {
   "cell_type": "code",
   "execution_count": 1,
   "id": "7d2cd7c6-9b3f-4f86-9809-aa1191c89cba",
   "metadata": {},
   "outputs": [],
   "source": [
    "import mysql.connector\n"
   ]
  },
  {
   "cell_type": "code",
   "execution_count": 2,
   "id": "e79efdb9-d0e0-4205-94f1-903988bfe761",
   "metadata": {},
   "outputs": [],
   "source": [
    "\n",
    "connection = mysql.connector.connect(host='localhost',\n",
    "                                    port='3306',\n",
    "                                    user='root',\n",
    "                                    password='password')\n",
    "cursor = connection.cursor()\n",
    "# 創建資料庫\n",
    "#cursor.execute(\"CREATE DATABASE `database2`;\")\n",
    "# 取得所有資料庫名稱\n",
    "# cursor.execute(\"SHOW DATABASES;\")\n",
    "# records = cursor.fetchall()\n",
    "# for r in records:\n",
    "#     print(r)\n",
    "# 啟用資料庫\n",
    "cursor.execute(\"USE `Scores`;\")\n",
    "# 創建表格\n",
    "# cursor.execute('CREATE TABLE `qq`(qq INT);')\n",
    "#關閉\n",
    "#cursor.close()\n",
    "#connection.close()\n",
    "\n"
   ]
  },
  {
   "cell_type": "code",
   "execution_count": 3,
   "id": "7e3ee8ed-b773-4d5f-90da-646a35597a1c",
   "metadata": {},
   "outputs": [
    {
     "data": {
      "text/plain": [
       "[('student_id', 'int', 'NO', 'PRI', None, 'auto_increment'),\n",
       " ('name', 'varchar(20)', 'YES', '', None, ''),\n",
       " ('Chinese', 'int', 'YES', '', None, ''),\n",
       " ('English', 'int', 'YES', '', None, ''),\n",
       " ('Math', 'int', 'YES', '', None, ''),\n",
       " ('Physics', 'int', 'YES', '', None, ''),\n",
       " ('Chemical', 'int', 'YES', '', None, '')]"
      ]
     },
     "execution_count": 3,
     "metadata": {},
     "output_type": "execute_result"
    }
   ],
   "source": [
    "cursor.execute(\"SHOW COLUMNS FROM `score`;\")\n",
    "attribes = cursor.fetchall()\n",
    "attribes"
   ]
  },
  {
   "cell_type": "code",
   "execution_count": 4,
   "id": "dca00d61-5877-42fc-ab5b-d900f97eb54d",
   "metadata": {},
   "outputs": [
    {
     "name": "stdout",
     "output_type": "stream",
     "text": [
      "(1, '張三', 92, 85, 78, 89, 76)\n",
      "(2, '李四', 78, 88, 95, 82, 90)\n",
      "(3, '王五', 85, 93, 88, 76, 87)\n",
      "(4, '赵六', 76, 82, 89, 90, 84)\n",
      "(5, '陳七', 89, 77, 91, 88, 75)\n",
      "(6, '劉八', 92, 79, 83, 87, 92)\n",
      "(7, '黃九', 88, 91, 77, 84, 79)\n",
      "(8, '吳十', 81, 84, 92, 76, 85)\n",
      "(9, '張十一', 79, 86, 90, 91, 78)\n",
      "(10, '李十二', 93, 82, 86, 85, 93)\n",
      "(11, '王十三', 87, 90, 79, 83, 88)\n",
      "(12, '赵十四', 90, 76, 85, 92, 77)\n",
      "(13, '陳十五', 84, 92, 88, 78, 91)\n",
      "(14, '劉十六', 78, 85, 90, 89, 84)\n",
      "(15, '黃十七', 91, 79, 82, 76, 86)\n",
      "(16, '吳十八', 87, 88, 91, 85, 79)\n",
      "(17, '張十九', 79, 84, 92, 78, 83)\n",
      "(18, '李二十', 93, 76, 87, 89, 80)\n",
      "(19, '王二十', 85, 91, 80, 84, 77)\n",
      "(20, '赵二十一', 88, 82, 76, 92, 81)\n",
      "(21, '陳二十二', 84, 89, 85, 78, 89)\n",
      "(22, '劉二十三', 77, 90, 91, 87, 85)\n",
      "(23, '黃二十四', 90, 78, 88, 76, 92)\n",
      "(24, '吳二十五', 91, 85, 83, 89, 78)\n",
      "(25, '張二十六', 76, 86, 80, 84, 91)\n",
      "(26, '李二十七', 92, 88, 77, 85, 86)\n",
      "(27, '王二十八', 86, 79, 89, 76, 83)\n",
      "(28, '赵二十九', 79, 90, 91, 88, 87)\n",
      "(29, '陳三十', 88, 84, 78, 90, 76)\n",
      "(30, '劉三十', 85, 87, 92, 77, 88)\n"
     ]
    }
   ],
   "source": [
    "# 取得score表格內所有資料\n",
    "cursor.execute('SELECT * FROM `score`;')\n",
    "data = cursor.fetchall()\n",
    "for d in data:\n",
    "    print(d)"
   ]
  },
  {
   "cell_type": "code",
   "execution_count": 5,
   "id": "45235744-c1bc-4852-ad69-3a2c1c3618f8",
   "metadata": {},
   "outputs": [],
   "source": [
    "# 新增資料\n",
    "cursor.execute(\"INSERT INTO `score` VALUES(31, '洪三一', 89, 95, 92, 86, 79);\")"
   ]
  },
  {
   "cell_type": "code",
   "execution_count": 6,
   "id": "87f104ab-7e64-45c4-a85e-3ce6dbed74eb",
   "metadata": {},
   "outputs": [
    {
     "name": "stdout",
     "output_type": "stream",
     "text": [
      "(1, '張三', 92, 85, 78, 89, 76)\n",
      "(2, '李四', 78, 88, 95, 82, 90)\n",
      "(3, '王五', 85, 93, 88, 76, 87)\n",
      "(4, '赵六', 76, 82, 89, 90, 84)\n",
      "(5, '陳七', 89, 77, 91, 88, 75)\n",
      "(6, '劉八', 92, 79, 83, 87, 92)\n",
      "(7, '黃九', 88, 91, 77, 84, 79)\n",
      "(8, '吳十', 81, 84, 92, 76, 85)\n",
      "(9, '張十一', 79, 86, 90, 91, 78)\n",
      "(10, '李十二', 93, 82, 86, 85, 93)\n",
      "(11, '王十三', 87, 90, 79, 83, 88)\n",
      "(12, '赵十四', 90, 76, 85, 92, 77)\n",
      "(13, '陳十五', 84, 92, 88, 78, 91)\n",
      "(14, '劉十六', 78, 85, 90, 89, 84)\n",
      "(15, '黃十七', 91, 79, 82, 76, 86)\n",
      "(16, '吳十八', 87, 88, 91, 85, 79)\n",
      "(17, '張十九', 79, 84, 92, 78, 83)\n",
      "(18, '李二十', 93, 76, 87, 89, 80)\n",
      "(19, '王二十', 85, 91, 80, 84, 77)\n",
      "(20, '赵二十一', 88, 82, 76, 92, 81)\n",
      "(21, '陳二十二', 84, 89, 85, 78, 89)\n",
      "(22, '劉二十三', 77, 90, 91, 87, 85)\n",
      "(23, '黃二十四', 90, 78, 88, 76, 92)\n",
      "(24, '吳二十五', 91, 85, 83, 89, 78)\n",
      "(25, '張二十六', 76, 86, 80, 84, 91)\n",
      "(26, '李二十七', 92, 88, 77, 85, 86)\n",
      "(27, '王二十八', 86, 79, 89, 76, 83)\n",
      "(28, '赵二十九', 79, 90, 91, 88, 87)\n",
      "(29, '陳三十', 88, 84, 78, 90, 76)\n",
      "(30, '劉三十', 85, 87, 92, 77, 88)\n",
      "(31, '洪三一', 89, 95, 92, 86, 79)\n"
     ]
    }
   ],
   "source": [
    "#檢查新增狀況\n",
    "cursor.execute(\"SELECT * FROM `score`;\")\n",
    "data = cursor.fetchall()\n",
    "for d in data:\n",
    "    print(d)"
   ]
  },
  {
   "cell_type": "code",
   "execution_count": 7,
   "id": "3cc96b0b-c0fb-4735-8a17-6e833664f122",
   "metadata": {},
   "outputs": [],
   "source": [
    "#刪除\n",
    "cursor.execute(\"DELETE FROM `score` WHERE `student_id`=31;\")"
   ]
  },
  {
   "cell_type": "code",
   "execution_count": 8,
   "id": "db087c1f-10cc-41dc-8b5c-0104816f9841",
   "metadata": {},
   "outputs": [
    {
     "name": "stdout",
     "output_type": "stream",
     "text": [
      "(1, '張三', 92, 85, 78, 89, 76)\n",
      "(2, '李四', 78, 88, 95, 82, 90)\n",
      "(3, '王五', 85, 93, 88, 76, 87)\n",
      "(4, '赵六', 76, 82, 89, 90, 84)\n",
      "(5, '陳七', 89, 77, 91, 88, 75)\n",
      "(6, '劉八', 92, 79, 83, 87, 92)\n",
      "(7, '黃九', 88, 91, 77, 84, 79)\n",
      "(8, '吳十', 81, 84, 92, 76, 85)\n",
      "(9, '張十一', 79, 86, 90, 91, 78)\n",
      "(10, '李十二', 93, 82, 86, 85, 93)\n",
      "(11, '王十三', 87, 90, 79, 83, 88)\n",
      "(12, '赵十四', 90, 76, 85, 92, 77)\n",
      "(13, '陳十五', 84, 92, 88, 78, 91)\n",
      "(14, '劉十六', 78, 85, 90, 89, 84)\n",
      "(15, '黃十七', 91, 79, 82, 76, 86)\n",
      "(16, '吳十八', 87, 88, 91, 85, 79)\n",
      "(17, '張十九', 79, 84, 92, 78, 83)\n",
      "(18, '李二十', 93, 76, 87, 89, 80)\n",
      "(19, '王二十', 85, 91, 80, 84, 77)\n",
      "(20, '赵二十一', 88, 82, 76, 92, 81)\n",
      "(21, '陳二十二', 84, 89, 85, 78, 89)\n",
      "(22, '劉二十三', 77, 90, 91, 87, 85)\n",
      "(23, '黃二十四', 90, 78, 88, 76, 92)\n",
      "(24, '吳二十五', 91, 85, 83, 89, 78)\n",
      "(25, '張二十六', 76, 86, 80, 84, 91)\n",
      "(26, '李二十七', 92, 88, 77, 85, 86)\n",
      "(27, '王二十八', 86, 79, 89, 76, 83)\n",
      "(28, '赵二十九', 79, 90, 91, 88, 87)\n",
      "(29, '陳三十', 88, 84, 78, 90, 76)\n",
      "(30, '劉三十', 85, 87, 92, 77, 88)\n"
     ]
    }
   ],
   "source": [
    "#檢查是否刪除\n",
    "cursor.execute('SELECT * FROM `score`;')\n",
    "data = cursor.fetchall()\n",
    "for d in data:\n",
    "    print(d)"
   ]
  },
  {
   "cell_type": "code",
   "execution_count": 9,
   "id": "3290a54f-b064-4421-86f3-236e85398d51",
   "metadata": {},
   "outputs": [
    {
     "data": {
      "text/plain": [
       "[(Decimal('85.4333'),)]"
      ]
     },
     "execution_count": 9,
     "metadata": {},
     "output_type": "execute_result"
    }
   ],
   "source": [
    "#顯示國語平均數\n",
    "cursor.execute(\"SELECT AVG(`Chinese`) FROM `score`\")\n",
    "avg = cursor.fetchall()\n",
    "avg"
   ]
  },
  {
   "cell_type": "code",
   "execution_count": 10,
   "id": "1fd8bddd-7198-49b4-8dff-82e00cee01fc",
   "metadata": {},
   "outputs": [
    {
     "data": {
      "text/plain": [
       "[('李四',),\n",
       " ('赵六',),\n",
       " ('劉八',),\n",
       " ('李十二',),\n",
       " ('王十三',),\n",
       " ('劉十六',),\n",
       " ('赵二十一',),\n",
       " ('劉二十三',),\n",
       " ('張二十六',),\n",
       " ('李二十七',),\n",
       " ('赵二十九',)]"
      ]
     },
     "execution_count": 10,
     "metadata": {},
     "output_type": "execute_result"
    }
   ],
   "source": [
    "#特定條件下的資料: 物理超過80分 且 化學超過80分\n",
    "cursor.execute(\"SELECT `name` FROM `score` WHERE `Physics`>80 AND `Chemical` >80;\")\n",
    "names = cursor.fetchall()\n",
    "names"
   ]
  },
  {
   "cell_type": "code",
   "execution_count": 11,
   "id": "f6f04561-69ee-407e-a656-6e0b8868f308",
   "metadata": {},
   "outputs": [],
   "source": [
    "cursor.close()\n",
    "connection.close()"
   ]
  },
  {
   "cell_type": "code",
   "execution_count": null,
   "id": "8e916a6a-7804-4361-9911-58430a6baf99",
   "metadata": {},
   "outputs": [],
   "source": []
  }
 ],
 "metadata": {
  "kernelspec": {
   "display_name": "Python 3 (ipykernel)",
   "language": "python",
   "name": "python3"
  },
  "language_info": {
   "codemirror_mode": {
    "name": "ipython",
    "version": 3
   },
   "file_extension": ".py",
   "mimetype": "text/x-python",
   "name": "python",
   "nbconvert_exporter": "python",
   "pygments_lexer": "ipython3",
   "version": "3.11.5"
  }
 },
 "nbformat": 4,
 "nbformat_minor": 5
}
